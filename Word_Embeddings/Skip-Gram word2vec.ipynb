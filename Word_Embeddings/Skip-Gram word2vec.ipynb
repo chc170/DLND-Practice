{
 "cells": [
  {
   "cell_type": "markdown",
   "metadata": {
    "deletable": true,
    "editable": true
   },
   "source": [
    "# Skip-gram word2vec\n",
    "\n",
    "In this notebook, I'll lead you through using TensorFlow to implement the word2vec algorithm using the skip-gram architecture. By implementing this, you'll learn about embedding words for use in natural language processing. This will come in handy when dealing with things like translations.\n",
    "\n",
    "## Readings\n",
    "\n",
    "Here are the resources I used to build this notebook. I suggest reading these either beforehand or while you're working on this material.\n",
    "\n",
    "* A really good [conceptual overview](http://mccormickml.com/2016/04/19/word2vec-tutorial-the-skip-gram-model/) of word2vec from Chris McCormick \n",
    "* [First word2vec paper](https://arxiv.org/pdf/1301.3781.pdf) from Mikolov et al.\n",
    "* [NIPS paper](http://papers.nips.cc/paper/5021-distributed-representations-of-words-and-phrases-and-their-compositionality.pdf) with improvements for word2vec also from Mikolov et al.\n",
    "* An [implementation of word2vec](http://www.thushv.com/natural_language_processing/word2vec-part-1-nlp-with-deep-learning-with-tensorflow-skip-gram/) from Thushan Ganegedara\n",
    "* TensorFlow [word2vec tutorial](https://www.tensorflow.org/tutorials/word2vec)\n",
    "\n",
    "## Word embeddings\n",
    "\n",
    "When you're dealing with language and words, you end up with tens of thousands of classes to predict, one for each word. Trying to one-hot encode these words is massively inefficient, you'll have one element set to 1 and the other 50,000 set to 0. The word2vec algorithm finds much more efficient representations by finding vectors that represent the words. These vectors also contain semantic information about the words. Words that show up in similar contexts, such as \"black\", \"white\", and \"red\" will have vectors near each other. There are two architectures for implementing word2vec, CBOW (Continuous Bag-Of-Words) and Skip-gram.\n",
    "\n",
    "<img src=\"assets/word2vec_architectures.png\" width=\"500\">\n",
    "\n",
    "In this implementation, we'll be using the skip-gram architecture because it performs better than CBOW. Here, we pass in a word and try to predict the words surrounding it in the text. In this way, we can train the network to learn representations for words that show up in similar contexts.\n",
    "\n",
    "First up, importing packages."
   ]
  },
  {
   "cell_type": "code",
   "execution_count": 2,
   "metadata": {
    "collapsed": false,
    "deletable": true,
    "editable": true
   },
   "outputs": [],
   "source": [
    "import time\n",
    "\n",
    "import numpy as np\n",
    "import tensorflow as tf\n",
    "\n",
    "import utils"
   ]
  },
  {
   "cell_type": "markdown",
   "metadata": {},
   "source": [
    "Load the [text8 dataset](http://mattmahoney.net/dc/textdata.html), a file of cleaned up Wikipedia articles from Matt Mahoney. The next cell will download the data set to the `data` folder. Then you can extract it and delete the archive file to save storage space."
   ]
  },
  {
   "cell_type": "code",
   "execution_count": 4,
   "metadata": {
    "collapsed": false
   },
   "outputs": [],
   "source": [
    "from urllib.request import urlretrieve\n",
    "from os.path import isfile, isdir\n",
    "from tqdm import tqdm\n",
    "import zipfile\n",
    "\n",
    "dataset_folder_path = 'data'\n",
    "dataset_filename = 'text8.zip'\n",
    "dataset_name = 'Text8 Dataset'\n",
    "\n",
    "class DLProgress(tqdm):\n",
    "    last_block = 0\n",
    "\n",
    "    def hook(self, block_num=1, block_size=1, total_size=None):\n",
    "        self.total = total_size\n",
    "        self.update((block_num - self.last_block) * block_size)\n",
    "        self.last_block = block_num\n",
    "\n",
    "if not isfile(dataset_filename):\n",
    "    with DLProgress(unit='B', unit_scale=True, miniters=1, desc=dataset_name) as pbar:\n",
    "        urlretrieve(\n",
    "            'http://mattmahoney.net/dc/text8.zip',\n",
    "            dataset_filename,\n",
    "            pbar.hook)\n",
    "\n",
    "if not isdir(dataset_folder_path):\n",
    "    with zipfile.ZipFile(dataset_filename) as zip_ref:\n",
    "        zip_ref.extractall(dataset_folder_path)\n",
    "        \n",
    "with open('data/text8') as f:\n",
    "    text = f.read()"
   ]
  },
  {
   "cell_type": "markdown",
   "metadata": {},
   "source": [
    "## Preprocessing\n",
    "\n",
    "Here I'm fixing up the text to make training easier. This comes from the `utils` module I wrote. The `preprocess` function coverts any punctuation into tokens, so a period is changed to ` <PERIOD> `. In this data set, there aren't any periods, but it will help in other NLP problems. I'm also removing all words that show up five or fewer times in the dataset. This will greatly reduce issues due to noise in the data and improve the quality of the vector representations. If you want to write your own functions for this stuff, go for it."
   ]
  },
  {
   "cell_type": "code",
   "execution_count": 5,
   "metadata": {
    "collapsed": false,
    "deletable": true,
    "editable": true
   },
   "outputs": [
    {
     "name": "stdout",
     "output_type": "stream",
     "text": [
      "['anarchism', 'originated', 'as', 'a', 'term', 'of', 'abuse', 'first', 'used', 'against', 'early', 'working', 'class', 'radicals', 'including', 'the', 'diggers', 'of', 'the', 'english', 'revolution', 'and', 'the', 'sans', 'culottes', 'of', 'the', 'french', 'revolution', 'whilst']\n"
     ]
    }
   ],
   "source": [
    "words = utils.preprocess(text)\n",
    "print(words[:30])"
   ]
  },
  {
   "cell_type": "code",
   "execution_count": 4,
   "metadata": {
    "collapsed": false
   },
   "outputs": [
    {
     "name": "stdout",
     "output_type": "stream",
     "text": [
      "Total words: 16680599\n",
      "Unique words: 63641\n"
     ]
    }
   ],
   "source": [
    "print(\"Total words: {}\".format(len(words)))\n",
    "print(\"Unique words: {}\".format(len(set(words))))"
   ]
  },
  {
   "cell_type": "markdown",
   "metadata": {},
   "source": [
    "And here I'm creating dictionaries to covert words to integers and backwards, integers to words. The integers are assigned in descending frequency order, so the most frequent word (\"the\") is given the integer 0 and the next most frequent is 1 and so on. The words are converted to integers and stored in the list `int_words`."
   ]
  },
  {
   "cell_type": "code",
   "execution_count": 5,
   "metadata": {
    "collapsed": false,
    "deletable": true,
    "editable": true
   },
   "outputs": [],
   "source": [
    "vocab_to_int, int_to_vocab = utils.create_lookup_tables(words)\n",
    "int_words = [vocab_to_int[word] for word in words]"
   ]
  },
  {
   "cell_type": "markdown",
   "metadata": {},
   "source": [
    "## Subsampling\n",
    "\n",
    "Words that show up often such as \"the\", \"of\", and \"for\" don't provide much context to the nearby words. If we discard some of them, we can remove some of the noise from our data and in return get faster training and better representations. This process is called subsampling by Mikolov. For each word $w_i$ in the training set, we'll discard it with probability given by \n",
    "\n",
    "$$ P(w_i) = 1 - \\sqrt{\\frac{t}{f(w_i)}} $$\n",
    "\n",
    "where $t$ is a threshold parameter and $f(w_i)$ is the frequency of word $w_i$ in the total dataset.\n",
    "\n",
    "I'm going to leave this up to you as an exercise. This is more of a programming challenge, than about deep learning specifically. But, being able to prepare your data for your network is an important skill to have. Check out my solution to see how I did it.\n",
    "\n",
    "> **Exercise:** Implement subsampling for the words in `int_words`. That is, go through `int_words` and discard each word given the probablility $P(w_i)$ shown above. Note that $P(w_i)$ is the probability that a word is discarded. Assign the subsampled data to `train_words`."
   ]
  },
  {
   "cell_type": "code",
   "execution_count": 33,
   "metadata": {
    "collapsed": false
   },
   "outputs": [
    {
     "name": "stdout",
     "output_type": "stream",
     "text": [
      "16680599\n",
      "4626624\n"
     ]
    }
   ],
   "source": [
    "## Your code here\n",
    "t = 1e-5\n",
    "counts = {}\n",
    "for i in int_words:\n",
    "    if i not in counts:\n",
    "        counts[i] = 0\n",
    "    counts[i] += 1\n",
    "train_words = []\n",
    "for i in int_words:\n",
    "    if (1 - np.sqrt(t/(counts[i]/len(int_words))) < np.random.random():\n",
    "        train_words.append(i)\n",
    "#from collections import Counter\n",
    "#import random\n",
    "\n",
    "#threshold = 1e-5\n",
    "#word_counts = Counter(int_words)\n",
    "#total_count = len(int_words)\n",
    "#freqs = {word: count/total_count for word, count in word_counts.items()}\n",
    "#p_drop = {word: 1 - np.sqrt(threshold/freqs[word]) for word in word_counts}\n",
    "#train_words = [word for word in int_words if p_drop[word] < random.random()]\n",
    "print(len(int_words))\n",
    "print(len(train_words))"
   ]
  },
  {
   "cell_type": "markdown",
   "metadata": {},
   "source": [
    "## Making batches"
   ]
  },
  {
   "cell_type": "markdown",
   "metadata": {
    "deletable": true,
    "editable": true
   },
   "source": [
    "Now that our data is in good shape, we need to get it into the proper form to pass it into our network. With the skip-gram architecture, for each word in the text, we want to grab all the words in a window around that word, with size $C$. \n",
    "\n",
    "From [Mikolov et al.](https://arxiv.org/pdf/1301.3781.pdf): \n",
    "\n",
    "\"Since the more distant words are usually less related to the current word than those close to it, we give less weight to the distant words by sampling less from those words in our training examples... If we choose $C = 5$, for each training word we will select randomly a number $R$ in range $< 1; C >$, and then use $R$ words from history and $R$ words from the future of the current word as correct labels.\"\n",
    "\n",
    "> **Exercise:** Implement a function `get_target` that receives a list of words, an index, and a window size, then returns a list of words in the window around the index. Make sure to use the algorithm described above, where you choose a random number of words from the window."
   ]
  },
  {
   "cell_type": "code",
   "execution_count": 49,
   "metadata": {
    "collapsed": true,
    "deletable": true,
    "editable": true
   },
   "outputs": [],
   "source": [
    "def get_target(words, idx, window_size=5):\n",
    "    ''' Get a list of words in a window around an index. '''\n",
    "    \n",
    "    s = max(idx-5, 0)\n",
    "    e = min(idx+6, len(words))\n",
    "    \n",
    "    return words[s:idx] + words[idx+1:e]"
   ]
  },
  {
   "cell_type": "markdown",
   "metadata": {},
   "source": [
    "Here's a function that returns batches for our network. The idea is that it grabs `batch_size` words from a words list. Then for each of those words, it gets the target words in the window. I haven't found a way to pass in a random number of target words and get it to work with the architecture, so I make one row per input-target pair. This is a generator function by the way, helps save memory."
   ]
  },
  {
   "cell_type": "code",
   "execution_count": 13,
   "metadata": {
    "collapsed": false,
    "deletable": true,
    "editable": true
   },
   "outputs": [],
   "source": [
    "def get_batches(words, batch_size, window_size=5):\n",
    "    ''' Create a generator of word batches as a tuple (inputs, targets) '''\n",
    "    \n",
    "    n_batches = len(words)//batch_size\n",
    "    \n",
    "    # only full batches\n",
    "    words = words[:n_batches*batch_size]\n",
    "    \n",
    "    for idx in range(0, len(words), batch_size):\n",
    "        x, y = [], []\n",
    "        batch = words[idx:idx+batch_size]\n",
    "        for ii in range(len(batch)):\n",
    "            batch_x = batch[ii]\n",
    "            batch_y = get_target(batch, ii, window_size)\n",
    "            y.extend(batch_y)\n",
    "            x.extend([batch_x]*len(batch_y))\n",
    "        yield x, y\n",
    "    "
   ]
  },
  {
   "cell_type": "markdown",
   "metadata": {
    "collapsed": false
   },
   "source": [
    "## Building the graph\n",
    "\n",
    "From Chris McCormick's blog, we can see the general structure of our network.\n",
    "![embedding_network](./assets/skip_gram_net_arch.png)\n",
    "\n",
    "The input words are passed in as one-hot encoded vectors. This will go into a hidden layer of linear units, then into a softmax layer. We'll use the softmax layer to make a prediction like normal.\n",
    "\n",
    "The idea here is to train the hidden layer weight matrix to find efficient representations for our words. This weight matrix is usually called the embedding matrix or embedding look-up table. We can discard the softmax layer becuase we don't really care about making predictions with this network. We just want the embedding matrix so we can use it in other networks we build from the dataset.\n",
    "\n",
    "I'm going to have you build the graph in stages now. First off, creating the `inputs` and `labels` placeholders like normal.\n",
    "\n",
    "> **Exercise:** Assign `inputs` and `labels` using `tf.placeholder`. We're going to be passing in integers, so set the data types to `tf.int32`. The batches we're passing in will have varying sizes, so set the batch sizes to [`None`]. To make things work later, you'll need to set the second dimension of `labels` to `None` or `1`."
   ]
  },
  {
   "cell_type": "code",
   "execution_count": 43,
   "metadata": {
    "collapsed": false
   },
   "outputs": [],
   "source": [
    "train_graph = tf.Graph()\n",
    "with train_graph.as_default():\n",
    "    inputs = tf.placeholder(tf.int32, (None))\n",
    "    labels = tf.placeholder(tf.int32, (None, 1))"
   ]
  },
  {
   "cell_type": "markdown",
   "metadata": {},
   "source": [
    "## Embedding\n",
    "\n"
   ]
  },
  {
   "cell_type": "markdown",
   "metadata": {
    "collapsed": true
   },
   "source": [
    "The embedding matrix has a size of the number of words by the number of neurons in the hidden layer. So, if you have 10,000 words and 300 hidden units, the matrix will have size $10,000 \\times 300$. Remember that we're using one-hot encoded vectors for our inputs. When you do the matrix multiplication of the one-hot vector with the embedding matrix, you end up selecting only one row out of the entire matrix:\n",
    "\n",
    "![one-hot matrix multiplication](assets/matrix_mult_w_one_hot.png)\n",
    "\n",
    "You don't actually need to do the matrix multiplication, you just need to select the row in the embedding matrix that corresponds to the input word. Then, the embedding matrix becomes a lookup table, you're looking up a vector the size of the hidden layer that represents the input word.\n",
    "\n",
    "<img src=\"assets/word2vec_weight_matrix_lookup_table.png\" width=500>\n",
    "\n",
    "\n",
    "> **Exercise:** Tensorflow provides a convenient function [`tf.nn.embedding_lookup`](https://www.tensorflow.org/api_docs/python/tf/nn/embedding_lookup) that does this lookup for us. You pass in the embedding matrix and a tensor of integers, then it returns rows in the matrix corresponding to those integers. Below, set the number of embedding features you'll use (200 is a good start), create the embedding matrix variable, and use [`tf.nn.embedding_lookup`](https://www.tensorflow.org/api_docs/python/tf/nn/embedding_lookup) to get the embedding tensors. For the embedding matrix, I suggest you initialize it with a uniform random numbers between -1 and 1 using [tf.random_uniform](https://www.tensorflow.org/api_docs/python/tf/random_uniform). This [TensorFlow tutorial](https://www.tensorflow.org/tutorials/word2vec) will help if you get stuck."
   ]
  },
  {
   "cell_type": "code",
   "execution_count": 44,
   "metadata": {
    "collapsed": false
   },
   "outputs": [],
   "source": [
    "import math\n",
    "n_vocab = len(int_to_vocab)\n",
    "# Number of embedding features \n",
    "n_embedding = 300\n",
    "with train_graph.as_default():\n",
    "    # create embedding weight matrix here\n",
    "    embedding = tf.Variable(tf.random_uniform([n_vocab, n_embedding], -1.0, 1.0))\n",
    "    # use tf.nn.embedding_lookup to get the hidden layer output\n",
    "    embed = tf.nn.embedding_lookup(embedding, inputs)"
   ]
  },
  {
   "cell_type": "markdown",
   "metadata": {},
   "source": [
    "## Negative sampling\n",
    "\n"
   ]
  },
  {
   "cell_type": "markdown",
   "metadata": {},
   "source": [
    "For every example we give the network, we train it using the output from the softmax layer. That means for each input, we're making very small changes to millions of weights even though we only have one true example. This makes training the network very inefficient. We can approximate the loss from the softmax layer by only updating a small subset of all the weights at once. We'll update the weights for the correct label, but only a small number of incorrect labels. This is called [\"negative sampling\"](http://papers.nips.cc/paper/5021-distributed-representations-of-words-and-phrases-and-their-compositionality.pdf). Tensorflow has a convenient function to do this, [`tf.nn.sampled_softmax_loss`](https://www.tensorflow.org/api_docs/python/tf/nn/sampled_softmax_loss).\n",
    "\n",
    "> **Exercise:** Below, create weights and biases for the softmax layer. Then, use [`tf.nn.sampled_softmax_loss`](https://www.tensorflow.org/api_docs/python/tf/nn/sampled_softmax_loss) to calculate the loss. Be sure to read the documentation to figure out how it works."
   ]
  },
  {
   "cell_type": "code",
   "execution_count": 45,
   "metadata": {
    "collapsed": false,
    "deletable": true,
    "editable": true
   },
   "outputs": [],
   "source": [
    "# Number of negative labels to sample\n",
    "n_sampled = 100\n",
    "with train_graph.as_default():\n",
    "    # create softmax weight matrix here\n",
    "    softmax_w = tf.Variable(\n",
    "            tf.truncated_normal((n_vocab, n_embedding),\n",
    "            stddev=1.0 / np.sqrt(n_embedding)))\n",
    "    # create softmax biases here\n",
    "    softmax_b = tf.Variable(tf.zeros((n_vocab)))\n",
    "    \n",
    "    # Calculate the loss using negative sampling\n",
    "    loss = tf.nn.sampled_softmax_loss(\n",
    "        softmax_w, softmax_b,\n",
    "        labels, embed,\n",
    "        n_sampled, n_vocab)\n",
    "    \n",
    "    cost = tf.reduce_mean(loss)\n",
    "    optimizer = tf.train.AdamOptimizer().minimize(cost)"
   ]
  },
  {
   "cell_type": "markdown",
   "metadata": {},
   "source": [
    "## Validation\n",
    "\n",
    "This code is from Thushan Ganegedara's implementation. Here we're going to choose a few common words and few uncommon words. Then, we'll print out the closest words to them. It's a nice way to check that our embedding table is grouping together words with similar semantic meanings."
   ]
  },
  {
   "cell_type": "code",
   "execution_count": 46,
   "metadata": {
    "collapsed": false
   },
   "outputs": [],
   "source": [
    "import random\n",
    "with train_graph.as_default():\n",
    "    ## From Thushan Ganegedara's implementation\n",
    "    valid_size = 16 # Random set of words to evaluate similarity on.\n",
    "    valid_window = 100\n",
    "    # pick 8 samples from (0,100) and (1000,1100) each ranges. lower id implies more frequent \n",
    "    valid_examples = np.array(random.sample(range(valid_window), valid_size//2))\n",
    "    valid_examples = np.append(valid_examples, \n",
    "                               random.sample(range(1000,1000+valid_window), valid_size//2))\n",
    "\n",
    "    valid_dataset = tf.constant(valid_examples, dtype=tf.int32)\n",
    "    \n",
    "    # We use the cosine distance:\n",
    "    norm = tf.sqrt(tf.reduce_sum(tf.square(embedding), 1, keep_dims=True))\n",
    "    normalized_embedding = embedding / norm\n",
    "    valid_embedding = tf.nn.embedding_lookup(normalized_embedding, valid_dataset)\n",
    "    similarity = tf.matmul(valid_embedding, tf.transpose(normalized_embedding))"
   ]
  },
  {
   "cell_type": "code",
   "execution_count": 47,
   "metadata": {
    "collapsed": false,
    "deletable": true,
    "editable": true
   },
   "outputs": [
    {
     "name": "stdout",
     "output_type": "stream",
     "text": [
      "mkdir: checkpoints: File exists\r\n"
     ]
    }
   ],
   "source": [
    "# If the checkpoints directory doesn't exist:\n",
    "!mkdir checkpoints"
   ]
  },
  {
   "cell_type": "markdown",
   "metadata": {},
   "source": [
    "## Training\n",
    "\n",
    "Below is the code to train the network. Every 100 batches it reports the training loss. Every 1000 batches, it'll print out the validation words."
   ]
  },
  {
   "cell_type": "code",
   "execution_count": 50,
   "metadata": {
    "collapsed": false,
    "deletable": true,
    "editable": true
   },
   "outputs": [
    {
     "name": "stdout",
     "output_type": "stream",
     "text": [
      "Epoch 1/10 Iteration: 100 Avg. Training loss: 5.4661 0.4601 sec/batch\n",
      "Epoch 1/10 Iteration: 200 Avg. Training loss: 5.4523 0.4431 sec/batch\n",
      "Epoch 1/10 Iteration: 300 Avg. Training loss: 5.3375 0.4555 sec/batch\n",
      "Epoch 1/10 Iteration: 400 Avg. Training loss: 5.4199 0.4427 sec/batch\n",
      "Epoch 1/10 Iteration: 500 Avg. Training loss: 5.3624 0.4261 sec/batch\n",
      "Epoch 1/10 Iteration: 600 Avg. Training loss: 5.3941 0.4277 sec/batch\n",
      "Epoch 1/10 Iteration: 700 Avg. Training loss: 5.3659 0.4182 sec/batch\n",
      "Epoch 1/10 Iteration: 800 Avg. Training loss: 5.3612 0.4237 sec/batch\n",
      "Epoch 1/10 Iteration: 900 Avg. Training loss: 5.2773 0.4165 sec/batch\n",
      "Epoch 1/10 Iteration: 1000 Avg. Training loss: 5.1925 0.4185 sec/batch\n",
      "Nearest to see: additionally, simplified, themes, corruption, cia, maturity, papeete, artaphernes,\n",
      "Nearest to would: favourite, lease, explode, perceived, lepus, consummation, reining, goidelic,\n",
      "Nearest to has: appreciated, tended, typological, lyra, commentators, mca, elam, cistern,\n",
      "Nearest to use: gotthold, summation, selflessness, odos, perthshire, amalaric, dailies, mirror,\n",
      "Nearest to between: intellectual, sinned, organa, actuality, licensure, start, ccg, pogo,\n",
      "Nearest to three: hopeful, jihad, four, over, subtitle, trademarked, generated, presper,\n",
      "Nearest to by: exist, shown, jeans, fenway, glennon, side, believers, conducting,\n",
      "Nearest to more: pullman, to, searchers, deadliest, solicited, arrival, slow, colampadius,\n",
      "Nearest to except: manipulation, amon, inferiority, saskatoon, entrenched, folkestone, ignoring, dearest,\n",
      "Nearest to notes: universiti, skinned, honest, transcribing, cartel, mitnagdim, factor, monatomic,\n",
      "Nearest to pressure: countries, odd, antiprisms, hebrew, voyages, bias, unbundling, happily,\n",
      "Nearest to pope: conquistadores, mauser, infinitive, sandman, supposed, cowpox, simenon, pp,\n",
      "Nearest to hit: psychologists, restrained, alkaloids, shortwave, guests, intersect, cowper, orientis,\n",
      "Nearest to troops: kagan, dish, bridged, gatherer, blacked, conspire, incheon, khedive,\n",
      "Nearest to egypt: minor, microcebus, incremental, chimpanzees, gokturk, hingle, hindus, codas,\n",
      "Nearest to bible: rest, axis, une, castille, passers, asymptotes, regulator, morihei,\n",
      "Epoch 1/10 Iteration: 1100 Avg. Training loss: 5.2278 0.4262 sec/batch\n",
      "Epoch 1/10 Iteration: 1200 Avg. Training loss: 5.1072 0.4222 sec/batch\n",
      "Epoch 1/10 Iteration: 1300 Avg. Training loss: 5.0599 0.4188 sec/batch\n",
      "Epoch 1/10 Iteration: 1400 Avg. Training loss: 4.9316 0.4168 sec/batch\n",
      "Epoch 1/10 Iteration: 1500 Avg. Training loss: 4.8994 0.4171 sec/batch\n",
      "Epoch 1/10 Iteration: 1600 Avg. Training loss: 4.8639 0.4172 sec/batch\n",
      "Epoch 1/10 Iteration: 1700 Avg. Training loss: 4.8509 0.4195 sec/batch\n",
      "Epoch 1/10 Iteration: 1800 Avg. Training loss: 4.8228 0.4172 sec/batch\n",
      "Epoch 1/10 Iteration: 1900 Avg. Training loss: 4.7850 0.4186 sec/batch\n",
      "Epoch 1/10 Iteration: 2000 Avg. Training loss: 4.7808 0.4160 sec/batch\n",
      "Nearest to see: simplified, additionally, cia, corruption, themes, artificial, maturity, integrates,\n",
      "Nearest to would: favourite, explode, lease, advise, perceived, goidelic, roc, consummation,\n",
      "Nearest to has: tended, appreciated, dan, equipment, typological, commentators, mca, sheets,\n",
      "Nearest to use: summation, mirror, terrorism, gotthold, selflessness, chords, enterprise, consuming,\n",
      "Nearest to between: intellectual, actuality, epic, sinned, start, additional, licensure, organa,\n",
      "Nearest to three: hopeful, jester, jihad, generated, subtitle, trademarked, slightly, calculate,\n",
      "Nearest to by: shown, exist, believers, disadvantages, side, planned, enough, jeans,\n",
      "Nearest to more: deadliest, pullman, solicited, hierarchically, slow, searchers, arrival, centred,\n",
      "Nearest to except: manipulation, amon, ignoring, counterparts, inferiority, percent, folkestone, levinson,\n",
      "Nearest to notes: universiti, honest, skinned, factor, transcribing, radiation, cartel, aggregation,\n",
      "Nearest to pressure: countries, odd, excessive, happily, dairy, voyages, hebrew, bias,\n",
      "Nearest to pope: conquistadores, mauser, supposed, pp, sandman, taiwan, infinitive, marginal,\n",
      "Nearest to hit: psychologists, restrained, scandinavian, alkaloids, guests, intersect, shortwave, scattered,\n",
      "Nearest to troops: kagan, dish, bridged, blacked, lion, breakfast, eu, sixty,\n",
      "Nearest to egypt: minor, incremental, chimpanzees, instant, microcebus, hindus, gokturk, induction,\n",
      "Nearest to bible: rest, axis, castille, regulator, une, passers, seafood, deduction,\n",
      "Epoch 1/10 Iteration: 2100 Avg. Training loss: 4.7342 0.4207 sec/batch\n",
      "Epoch 1/10 Iteration: 2200 Avg. Training loss: 4.7466 0.4152 sec/batch\n",
      "Epoch 1/10 Iteration: 2300 Avg. Training loss: 4.7305 0.4153 sec/batch\n",
      "Epoch 1/10 Iteration: 2400 Avg. Training loss: 4.7226 0.4214 sec/batch\n",
      "Epoch 1/10 Iteration: 2500 Avg. Training loss: 4.6889 0.4169 sec/batch\n",
      "Epoch 1/10 Iteration: 2600 Avg. Training loss: 4.6894 0.4175 sec/batch\n",
      "Epoch 1/10 Iteration: 2700 Avg. Training loss: 4.6538 0.4175 sec/batch\n",
      "Epoch 1/10 Iteration: 2800 Avg. Training loss: 4.6821 0.4197 sec/batch\n",
      "Epoch 1/10 Iteration: 2900 Avg. Training loss: 4.6628 0.4175 sec/batch\n",
      "Epoch 1/10 Iteration: 3000 Avg. Training loss: 4.6747 0.4203 sec/batch\n",
      "Nearest to see: simplified, additionally, cia, redaction, gnu, corruption, kerry, artificial,\n",
      "Nearest to would: favourite, lease, explode, advise, goidelic, reining, perceived, minimalism,\n",
      "Nearest to has: appreciated, tended, typological, dan, announce, mca, lyra, smack,\n",
      "Nearest to use: summation, gotthold, selflessness, consuming, perthshire, odos, terrorism, dispensing,\n",
      "Nearest to between: intellectual, actuality, licensure, start, epic, ccg, organa, sinned,\n",
      "Nearest to three: hopeful, jester, four, lisa, mather, subtitle, jericho, trademarked,\n",
      "Nearest to by: shown, exist, believers, inconclusive, glennon, planned, necropolis, urchin,\n",
      "Nearest to more: solicited, pullman, deadliest, hierarchically, searchers, conforms, assigns, colampadius,\n",
      "Nearest to except: amon, manipulation, inferiority, ignoring, counterparts, levinson, chloramphenicol, saskatoon,\n",
      "Nearest to notes: universiti, honest, skinned, cartel, transcribing, factor, mitnagdim, chivalrous,\n",
      "Nearest to pressure: countries, excessive, happily, dairy, installations, lms, odd, voyages,\n",
      "Nearest to pope: conquistadores, mauser, sandman, supposed, flakes, infinitive, marginal, pp,\n",
      "Nearest to hit: psychologists, cowper, shortwave, intersect, guests, scandinavian, llb, alkaloids,\n",
      "Nearest to troops: kagan, breakfast, dish, gatherer, blacked, lion, bridged, directive,\n",
      "Nearest to egypt: hindus, minor, incremental, gokturk, chimpanzees, microcebus, athelstan, induction,\n",
      "Nearest to bible: axis, une, text, rest, castille, regulator, seafood, flakes,\n",
      "Epoch 1/10 Iteration: 3100 Avg. Training loss: 4.6546 0.4213 sec/batch\n",
      "Epoch 1/10 Iteration: 3200 Avg. Training loss: 4.6382 0.4169 sec/batch\n",
      "Epoch 1/10 Iteration: 3300 Avg. Training loss: 4.6324 0.4181 sec/batch\n",
      "Epoch 1/10 Iteration: 3400 Avg. Training loss: 4.6072 0.4173 sec/batch\n",
      "Epoch 1/10 Iteration: 3500 Avg. Training loss: 4.6462 0.4168 sec/batch\n",
      "Epoch 1/10 Iteration: 3600 Avg. Training loss: 4.5791 0.4162 sec/batch\n",
      "Epoch 1/10 Iteration: 3700 Avg. Training loss: 4.6336 0.4273 sec/batch\n",
      "Epoch 1/10 Iteration: 3800 Avg. Training loss: 4.6338 0.4159 sec/batch\n",
      "Epoch 1/10 Iteration: 3900 Avg. Training loss: 4.6150 0.4174 sec/batch\n",
      "Epoch 1/10 Iteration: 4000 Avg. Training loss: 4.5575 0.4160 sec/batch\n",
      "Nearest to see: simplified, additionally, redaction, artificial, gnu, cia, integrates, kerry,\n",
      "Nearest to would: favourite, lease, goidelic, advise, targum, consummation, reining, explode,\n",
      "Nearest to has: appreciated, tended, lyra, typological, dan, smack, elam, mca,\n",
      "Nearest to use: summation, selflessness, gotthold, consuming, reconstructionism, helix, developmental, odos,\n",
      "Nearest to between: intellectual, actuality, licensure, ccg, organa, start, epic, sinned,\n",
      "Nearest to three: four, hopeful, jester, mather, lisa, trademarked, five, over,\n",
      "Nearest to by: shown, secombe, glennon, exist, planned, linker, inconclusive, necropolis,\n",
      "Nearest to more: solicited, deadliest, pullman, hierarchically, searchers, colampadius, paasikivi, centred,\n",
      "Nearest to except: inferiority, manipulation, amon, counterparts, redrawn, saskatoon, dearest, levinson,\n",
      "Nearest to notes: universiti, honest, cartel, mitnagdim, factor, chivalrous, skinned, transcribing,\n",
      "Nearest to pressure: countries, excessive, crops, dairy, happily, installations, pressuring, plucking,\n",
      "Nearest to pope: conquistadores, mauser, sandman, king, flakes, supposed, homeopathy, saint,\n",
      "Nearest to hit: tutored, llb, psychologists, cowper, shortwave, guests, scattered, olivier,\n",
      "Nearest to troops: blacked, kagan, breakfast, dish, sixty, venezuelan, gatherer, trucking,\n",
      "Nearest to egypt: hindus, minor, microcebus, raza, incremental, assyrians, athelstan, opportune,\n",
      "Nearest to bible: text, une, axis, flakes, castille, admissible, romney, resuscitation,\n",
      "Epoch 1/10 Iteration: 4100 Avg. Training loss: 4.5563 0.4239 sec/batch\n",
      "Epoch 1/10 Iteration: 4200 Avg. Training loss: 4.5453 0.4181 sec/batch\n",
      "Epoch 1/10 Iteration: 4300 Avg. Training loss: 4.4839 0.4155 sec/batch\n",
      "Epoch 1/10 Iteration: 4400 Avg. Training loss: 4.5125 0.4185 sec/batch\n",
      "Epoch 1/10 Iteration: 4500 Avg. Training loss: 4.5085 0.4186 sec/batch\n",
      "Epoch 1/10 Iteration: 4600 Avg. Training loss: 4.5133 0.4158 sec/batch\n",
      "Epoch 2/10 Iteration: 4700 Avg. Training loss: 4.4786 0.3111 sec/batch\n",
      "Epoch 2/10 Iteration: 4800 Avg. Training loss: 4.3650 0.4183 sec/batch\n",
      "Epoch 2/10 Iteration: 4900 Avg. Training loss: 4.3154 0.4183 sec/batch\n",
      "Epoch 2/10 Iteration: 5000 Avg. Training loss: 4.3087 0.4180 sec/batch\n",
      "Nearest to see: simplified, artificial, redaction, additionally, gnu, cia, refined, counterbalanced,\n",
      "Nearest to would: favourite, goidelic, lease, consummation, greeneville, advise, explode, targum,\n",
      "Nearest to has: appreciated, tended, lyra, typological, dan, equipment, smack, commentators,\n",
      "Nearest to use: summation, gotthold, reconstructionism, odos, consuming, developmental, prism, selflessness,\n",
      "Nearest to between: licensure, intellectual, organa, start, actuality, ccg, quranic, epic,\n",
      "Nearest to three: four, mather, hopeful, eva, jester, five, trademarked, lisa,\n",
      "Nearest to by: secombe, shown, linker, glennon, urchin, necropolis, planned, lossy,\n",
      "Nearest to more: solicited, deadliest, pullman, hierarchically, colampadius, searchers, slow, centred,\n",
      "Nearest to except: inferiority, manipulation, saskatoon, amon, counterparts, alc, dearest, redrawn,\n",
      "Nearest to notes: universiti, honest, cartel, mitnagdim, bookstore, factor, chivalrous, skinned,\n",
      "Nearest to pressure: excessive, countries, crops, dairy, installations, pressuring, happily, plucking,\n",
      "Nearest to pope: conquistadores, king, mauser, saint, sandman, supposed, politecnico, cabot,\n",
      "Nearest to hit: guests, llb, tutored, shortwave, cowper, pie, olivier, scattered,\n",
      "Nearest to troops: blacked, venezuelan, frontier, kagan, breakfast, dish, trucking, conspire,\n",
      "Nearest to egypt: hindus, minor, berbers, assyrians, microcebus, raza, kingdom, athelstan,\n",
      "Nearest to bible: une, text, romney, christians, liturgy, admissible, christ, hebrew,\n",
      "Epoch 2/10 Iteration: 5100 Avg. Training loss: 4.2942 0.4261 sec/batch\n",
      "Epoch 2/10 Iteration: 5200 Avg. Training loss: 4.3084 0.4163 sec/batch\n",
      "Epoch 2/10 Iteration: 5300 Avg. Training loss: 4.2736 0.4154 sec/batch\n",
      "Epoch 2/10 Iteration: 5400 Avg. Training loss: 4.3333 0.4164 sec/batch\n",
      "Epoch 2/10 Iteration: 5500 Avg. Training loss: 4.2944 0.4204 sec/batch\n",
      "Epoch 2/10 Iteration: 5600 Avg. Training loss: 4.2808 0.4173 sec/batch\n",
      "Epoch 2/10 Iteration: 5700 Avg. Training loss: 4.2626 0.4181 sec/batch\n",
      "Epoch 2/10 Iteration: 5800 Avg. Training loss: 4.2121 0.4220 sec/batch\n",
      "Epoch 2/10 Iteration: 5900 Avg. Training loss: 4.2463 0.4185 sec/batch\n",
      "Epoch 2/10 Iteration: 6000 Avg. Training loss: 4.2256 0.4159 sec/batch\n",
      "Nearest to see: simplified, cia, artificial, additionally, theory, refined, gnu, redaction,\n",
      "Nearest to would: favourite, greeneville, lease, explode, consummation, goidelic, corte, advise,\n",
      "Nearest to has: appreciated, tended, lyra, typological, dan, pedestrian, mlk, guaranteed,\n",
      "Nearest to use: summation, odos, gotthold, reconstructionism, selflessness, developmental, nontraditional, prism,\n",
      "Nearest to between: licensure, intellectual, quranic, ccg, start, organa, actuality, epic,\n",
      "Nearest to three: trademarked, four, isl, mather, calculate, over, five, individualistic,\n",
      "Nearest to by: secombe, glennon, shown, planned, linker, urchin, lossy, necropolis,\n",
      "Nearest to more: solicited, deadliest, pullman, hierarchically, conforms, centred, colampadius, slow,\n",
      "Nearest to except: inferiority, manipulation, alc, saskatoon, amon, counterparts, redrawn, parsecs,\n",
      "Nearest to notes: universiti, honest, cartel, mitnagdim, bookstore, vocal, factor, skinned,\n",
      "Nearest to pressure: excessive, countries, installations, crops, dairy, pressuring, carbohydrate, intensities,\n",
      "Nearest to pope: conquistadores, mauser, king, sandman, laon, saint, tortured, supposed,\n",
      "Nearest to hit: llb, tutored, guests, smiles, shortwave, hyperplane, pie, box,\n",
      "Nearest to troops: blacked, kagan, frontier, trucking, conspire, detachment, dish, capture,\n",
      "Nearest to egypt: hindus, assyrians, berbers, minor, microcebus, kingdom, athelstan, raza,\n",
      "Nearest to bible: text, christians, liturgy, tanakh, une, hebrew, romney, christ,\n",
      "Epoch 2/10 Iteration: 6100 Avg. Training loss: 4.2134 0.4225 sec/batch\n",
      "Epoch 2/10 Iteration: 6200 Avg. Training loss: 4.2348 0.4179 sec/batch\n",
      "Epoch 2/10 Iteration: 6300 Avg. Training loss: 4.2499 0.4176 sec/batch\n",
      "Epoch 2/10 Iteration: 6400 Avg. Training loss: 4.1974 0.4169 sec/batch\n",
      "Epoch 2/10 Iteration: 6500 Avg. Training loss: 4.2321 0.4188 sec/batch\n",
      "Epoch 2/10 Iteration: 6600 Avg. Training loss: 4.2787 0.4173 sec/batch\n",
      "Epoch 2/10 Iteration: 6700 Avg. Training loss: 4.1978 0.4210 sec/batch\n",
      "Epoch 2/10 Iteration: 6800 Avg. Training loss: 4.1937 0.4214 sec/batch\n",
      "Epoch 2/10 Iteration: 6900 Avg. Training loss: 4.2582 0.4163 sec/batch\n",
      "Epoch 2/10 Iteration: 7000 Avg. Training loss: 4.2159 0.4171 sec/batch\n",
      "Nearest to see: simplified, gnu, artificial, theory, refined, cia, redaction, integrates,\n",
      "Nearest to would: favourite, greeneville, explode, lease, consummation, goidelic, advise, reining,\n",
      "Nearest to has: appreciated, tended, lyra, typological, guaranteed, mlk, vico, pedestrian,\n",
      "Nearest to use: summation, gotthold, odos, reconstructionism, nontraditional, selflessness, enterprise, developmental,\n",
      "Nearest to between: intellectual, licensure, ccg, quranic, actuality, organa, start, epic,\n",
      "Nearest to three: mather, four, calculate, five, trademarked, isl, six, eva,\n",
      "Nearest to by: secombe, glennon, linker, urchin, shown, planned, lossy, eustathius,\n",
      "Nearest to more: solicited, pullman, deadliest, hierarchically, paasikivi, conforms, centred, searchers,\n",
      "Nearest to except: manipulation, counterparts, alc, saskatoon, inferiority, amon, parsecs, qa,\n",
      "Nearest to notes: universiti, honest, bookstore, cartel, vocal, mitnagdim, factor, chivalrous,\n",
      "Nearest to pressure: excessive, installations, plucking, countries, intensities, pressuring, carbohydrate, disadvantage,\n",
      "Nearest to pope: conquistadores, mauser, king, laon, tortured, sandman, supposed, politecnico,\n",
      "Nearest to hit: llb, guests, box, tutored, smiles, pie, hyperplane, ice,\n",
      "Nearest to troops: blacked, trucking, kagan, detachment, dish, accords, conspire, frontier,\n",
      "Nearest to egypt: hindus, berbers, assyrians, minor, orators, kingdom, athelstan, raza,\n",
      "Nearest to bible: text, christians, liturgy, tanakh, hebrew, une, admissible, romney,\n",
      "Epoch 2/10 Iteration: 7100 Avg. Training loss: 4.2107 0.4241 sec/batch\n",
      "Epoch 2/10 Iteration: 7200 Avg. Training loss: 4.2217 0.4173 sec/batch\n",
      "Epoch 2/10 Iteration: 7300 Avg. Training loss: 4.1994 0.4191 sec/batch\n",
      "Epoch 2/10 Iteration: 7400 Avg. Training loss: 4.2075 0.4163 sec/batch\n",
      "Epoch 2/10 Iteration: 7500 Avg. Training loss: 4.2501 0.4165 sec/batch\n",
      "Epoch 2/10 Iteration: 7600 Avg. Training loss: 4.2250 0.4165 sec/batch\n",
      "Epoch 2/10 Iteration: 7700 Avg. Training loss: 4.2038 0.4176 sec/batch\n",
      "Epoch 2/10 Iteration: 7800 Avg. Training loss: 4.1976 0.4171 sec/batch\n",
      "Epoch 2/10 Iteration: 7900 Avg. Training loss: 4.1912 0.4450 sec/batch\n",
      "Epoch 2/10 Iteration: 8000 Avg. Training loss: 4.1744 0.4213 sec/batch\n",
      "Nearest to see: simplified, gnu, cia, theory, artificial, refined, integrates, redaction,\n",
      "Nearest to would: favourite, greeneville, lease, explode, consummation, goidelic, repent, reining,\n",
      "Nearest to has: appreciated, tended, lyra, mlk, typological, pedestrian, guaranteed, vico,\n",
      "Nearest to use: summation, odos, gotthold, selflessness, reconstructionism, nontraditional, enterprise, minucius,\n",
      "Nearest to between: licensure, quranic, intellectual, organa, actuality, start, ccg, superscript,\n",
      "Nearest to three: four, five, calculate, mather, six, over, isl, wojciech,\n",
      "Nearest to by: secombe, glennon, linker, planned, urchin, shown, lossy, eustathius,\n",
      "Nearest to more: solicited, pullman, deadliest, hierarchically, paasikivi, searchers, sluzhba, colampadius,\n",
      "Nearest to except: alc, manipulation, amon, counterparts, parsecs, ials, saskatoon, inferiority,\n",
      "Nearest to notes: universiti, bookstore, cartel, mitnagdim, vocal, honest, chivalrous, converting,\n",
      "Nearest to pressure: excessive, countries, installations, plucking, temporary, voyages, pressuring, boggy,\n",
      "Nearest to pope: conquistadores, mauser, laon, king, sandman, tortured, supposed, politecnico,\n",
      "Nearest to hit: llb, guests, smiles, tutored, box, ice, onstage, hyperplane,\n",
      "Nearest to troops: blacked, capture, lhd, commanders, kagan, frontier, trucking, dish,\n",
      "Nearest to egypt: assyrians, berbers, hindus, minor, raza, manasseh, orators, athelstan,\n",
      "Nearest to bible: text, tanakh, christians, liturgy, une, admissible, beth, romney,\n",
      "Epoch 2/10 Iteration: 8100 Avg. Training loss: 4.2054 0.4226 sec/batch\n",
      "Epoch 2/10 Iteration: 8200 Avg. Training loss: 4.1679 0.4168 sec/batch\n",
      "Epoch 2/10 Iteration: 8300 Avg. Training loss: 4.2639 0.4172 sec/batch\n",
      "Epoch 2/10 Iteration: 8400 Avg. Training loss: 4.2472 0.4166 sec/batch\n",
      "Epoch 2/10 Iteration: 8500 Avg. Training loss: 4.2377 0.4181 sec/batch\n",
      "Epoch 2/10 Iteration: 8600 Avg. Training loss: 4.1594 0.4175 sec/batch\n",
      "Epoch 2/10 Iteration: 8700 Avg. Training loss: 4.1738 0.4200 sec/batch\n",
      "Epoch 2/10 Iteration: 8800 Avg. Training loss: 4.2117 0.4192 sec/batch\n",
      "Epoch 2/10 Iteration: 8900 Avg. Training loss: 4.0830 0.4159 sec/batch\n",
      "Epoch 2/10 Iteration: 9000 Avg. Training loss: 4.1544 0.4174 sec/batch\n",
      "Nearest to see: simplified, cia, gnu, artificial, corruption, theory, refined, mnt,\n",
      "Nearest to would: favourite, greeneville, lease, consummation, explode, goidelic, reining, corte,\n",
      "Nearest to has: appreciated, tended, lyra, pedestrian, vico, mlk, gannon, guaranteed,\n",
      "Nearest to use: summation, gotthold, reconstructionism, selflessness, odos, nontraditional, pstn, dispensing,\n",
      "Nearest to between: start, licensure, organa, quranic, intellectual, actuality, superscript, ccg,\n",
      "Nearest to three: four, five, mather, calculate, six, over, wojciech, bastien,\n",
      "Nearest to by: secombe, glennon, linker, urchin, planned, shown, eustathius, ayeyarwady,\n",
      "Nearest to more: solicited, deadliest, pullman, hierarchically, paasikivi, sluzhba, centred, colampadius,\n",
      "Nearest to except: counterparts, alc, parsecs, manipulation, saskatoon, inferiority, amon, ials,\n",
      "Nearest to notes: universiti, bookstore, cartel, mitnagdim, vocal, honest, factor, bride,\n",
      "Nearest to pressure: excessive, plucking, countries, boggy, installations, pressuring, temporary, voyages,\n",
      "Nearest to pope: conquistadores, laon, mauser, king, politecnico, sandman, supposed, antipope,\n",
      "Nearest to hit: llb, tutored, guests, box, smiles, onstage, ice, arbroath,\n",
      "Nearest to troops: blacked, capture, dish, lhd, kagan, incheon, commanders, frontier,\n",
      "Nearest to egypt: berbers, assyrians, hindus, minor, raza, manasseh, athelstan, dahomey,\n",
      "Nearest to bible: tanakh, text, liturgy, une, apocrypha, admissible, beth, castille,\n",
      "Epoch 2/10 Iteration: 9100 Avg. Training loss: 4.1475 0.4223 sec/batch\n",
      "Epoch 2/10 Iteration: 9200 Avg. Training loss: 4.1546 0.4172 sec/batch\n",
      "Epoch 3/10 Iteration: 9300 Avg. Training loss: 4.1943 0.2005 sec/batch\n",
      "Epoch 3/10 Iteration: 9400 Avg. Training loss: 4.0605 0.4172 sec/batch\n",
      "Epoch 3/10 Iteration: 9500 Avg. Training loss: 4.0172 0.4172 sec/batch\n",
      "Epoch 3/10 Iteration: 9600 Avg. Training loss: 4.0196 0.4189 sec/batch\n",
      "Epoch 3/10 Iteration: 9700 Avg. Training loss: 4.0156 0.4188 sec/batch\n",
      "Epoch 3/10 Iteration: 9800 Avg. Training loss: 4.0279 0.4172 sec/batch\n",
      "Epoch 3/10 Iteration: 9900 Avg. Training loss: 4.0392 0.4182 sec/batch\n",
      "Epoch 3/10 Iteration: 10000 Avg. Training loss: 4.0093 0.4165 sec/batch\n",
      "Nearest to see: cia, gnu, simplified, artificial, refined, corruption, mnt, additionally,\n",
      "Nearest to would: favourite, explode, greeneville, consummation, lease, reining, dac, corte,\n",
      "Nearest to has: tended, appreciated, gannon, mlk, lyra, vico, guaranteed, dan,\n",
      "Nearest to use: summation, gotthold, odos, reconstructionism, pstn, selflessness, nontraditional, dispensing,\n",
      "Nearest to between: start, licensure, quranic, organa, actuality, ccg, intellectual, cellists,\n",
      "Nearest to three: four, five, calculate, mather, over, six, wojciech, isl,\n",
      "Nearest to by: linker, secombe, glennon, urchin, planned, shown, reactants, eustathius,\n",
      "Nearest to more: solicited, deadliest, pullman, paasikivi, sluzhba, hierarchically, centred, minimums,\n",
      "Nearest to except: saskatoon, alc, counterparts, qa, amon, parsecs, adriaan, ials,\n",
      "Nearest to notes: universiti, bookstore, cartel, associate, mitnagdim, factor, vocal, hermas,\n",
      "Nearest to pressure: excessive, countries, intensities, plucking, pressuring, temporary, boggy, voyages,\n",
      "Nearest to pope: conquistadores, laon, politecnico, antipope, king, sandman, pp, supposed,\n",
      "Nearest to hit: llb, box, smiles, tutored, guests, onstage, tie, pitched,\n",
      "Nearest to troops: capture, blacked, dish, kagan, incheon, mujahid, lhd, detachment,\n",
      "Nearest to egypt: berbers, assyrians, hindus, minor, manasseh, raza, dahomey, naqada,\n",
      "Nearest to bible: tanakh, text, apocrypha, liturgy, tobit, christians, une, mormonism,\n",
      "Epoch 3/10 Iteration: 10100 Avg. Training loss: 4.0654 0.4243 sec/batch\n",
      "Epoch 3/10 Iteration: 10200 Avg. Training loss: 4.0386 0.4180 sec/batch\n",
      "Epoch 3/10 Iteration: 10300 Avg. Training loss: 4.0464 0.4160 sec/batch\n",
      "Epoch 3/10 Iteration: 10400 Avg. Training loss: 3.9323 0.4157 sec/batch\n",
      "Epoch 3/10 Iteration: 10500 Avg. Training loss: 3.9596 0.4169 sec/batch\n",
      "Epoch 3/10 Iteration: 10600 Avg. Training loss: 3.9741 0.4160 sec/batch\n",
      "Epoch 3/10 Iteration: 10700 Avg. Training loss: 3.9535 0.4164 sec/batch\n",
      "Epoch 3/10 Iteration: 10800 Avg. Training loss: 3.9743 0.4167 sec/batch\n",
      "Epoch 3/10 Iteration: 10900 Avg. Training loss: 4.0621 0.4164 sec/batch\n",
      "Epoch 3/10 Iteration: 11000 Avg. Training loss: 4.0221 0.4192 sec/batch\n",
      "Nearest to see: refined, gnu, cia, artificial, simplified, mnt, theory, visual,\n",
      "Nearest to would: favourite, greeneville, explode, consummation, dac, lease, reining, stratospheric,\n",
      "Nearest to has: tended, appreciated, vico, guaranteed, announce, dan, gannon, pedestrian,\n",
      "Nearest to use: summation, gotthold, odos, selflessness, reconstructionism, dispensing, pstn, nontraditional,\n",
      "Nearest to between: start, quranic, actuality, licensure, ccg, organa, intellectual, cellists,\n",
      "Nearest to three: five, four, over, six, calculate, wojciech, trademarked, mather,\n",
      "Nearest to by: glennon, linker, secombe, urchin, lossy, ayeyarwady, reactants, planned,\n",
      "Nearest to more: solicited, deadliest, pullman, paasikivi, hierarchically, sluzhba, centred, bathurst,\n",
      "Nearest to except: counterparts, qa, parsecs, saskatoon, alc, amon, manipulation, hinged,\n",
      "Nearest to notes: universiti, cartel, bookstore, associate, factor, vocal, mitnagdim, hermas,\n",
      "Nearest to pressure: excessive, plucking, intensities, countries, temporary, pressuring, carbohydrate, boggy,\n",
      "Nearest to pope: conquistadores, laon, antipope, politecnico, king, sandman, supposed, overlapped,\n",
      "Nearest to hit: llb, smiles, tutored, box, onstage, pitched, arbroath, tie,\n",
      "Nearest to troops: blacked, dish, lhd, capture, kagan, mujahid, incheon, detachment,\n",
      "Nearest to egypt: assyrians, berbers, hindus, minor, manasseh, orators, raza, naqada,\n",
      "Nearest to bible: tanakh, apocrypha, text, une, tobit, admissible, christians, beth,\n",
      "Epoch 3/10 Iteration: 11100 Avg. Training loss: 3.9993 0.4219 sec/batch\n",
      "Epoch 3/10 Iteration: 11200 Avg. Training loss: 4.0566 0.4165 sec/batch\n",
      "Epoch 3/10 Iteration: 11300 Avg. Training loss: 3.9878 0.4183 sec/batch\n",
      "Epoch 3/10 Iteration: 11400 Avg. Training loss: 3.9791 0.4181 sec/batch\n",
      "Epoch 3/10 Iteration: 11500 Avg. Training loss: 4.0058 0.4161 sec/batch\n",
      "Epoch 3/10 Iteration: 11600 Avg. Training loss: 4.0393 0.4195 sec/batch\n",
      "Epoch 3/10 Iteration: 11700 Avg. Training loss: 4.0488 0.4172 sec/batch\n",
      "Epoch 3/10 Iteration: 11800 Avg. Training loss: 3.9555 0.4158 sec/batch\n",
      "Epoch 3/10 Iteration: 11900 Avg. Training loss: 3.9539 0.4146 sec/batch\n",
      "Epoch 3/10 Iteration: 12000 Avg. Training loss: 3.9914 0.4172 sec/batch\n",
      "Nearest to see: refined, cia, artificial, gnu, mnt, simplified, theory, netiquette,\n",
      "Nearest to would: favourite, consummation, greeneville, dac, reining, explode, repent, lease,\n",
      "Nearest to has: tended, appreciated, vico, dan, guaranteed, announce, gannon, typological,\n",
      "Nearest to use: gotthold, summation, odos, reconstructionism, selflessness, dispensing, nontraditional, pstn,\n",
      "Nearest to between: start, licensure, actuality, quranic, deutschland, superscript, cellists, organa,\n",
      "Nearest to three: five, four, six, calculate, over, wojciech, two, mather,\n",
      "Nearest to by: secombe, glennon, linker, barbera, urchin, planned, icosahedron, ayeyarwady,\n",
      "Nearest to more: solicited, deadliest, pullman, sluzhba, paasikivi, hierarchically, misspellings, centred,\n",
      "Nearest to except: alc, parsecs, counterparts, saskatoon, qa, amon, manipulation, hinged,\n",
      "Nearest to notes: universiti, bookstore, cartel, associate, factor, mitnagdim, hermas, vocal,\n",
      "Nearest to pressure: excessive, plucking, intensities, grossman, temporary, carbohydrate, pressuring, countries,\n",
      "Nearest to pope: conquistadores, laon, antipope, sandman, politecnico, anglorum, overlapped, king,\n",
      "Nearest to hit: llb, smiles, onstage, box, tutored, arbroath, flashy, sejong,\n",
      "Nearest to troops: blacked, mujahid, lhd, kagan, commanders, capture, dish, incheon,\n",
      "Nearest to egypt: assyrians, berbers, minor, manasseh, hindus, dahomey, raza, naqada,\n",
      "Nearest to bible: tanakh, apocrypha, text, tobit, admissible, une, beth, christians,\n",
      "Epoch 3/10 Iteration: 12100 Avg. Training loss: 4.0142 0.4211 sec/batch\n",
      "Epoch 3/10 Iteration: 12200 Avg. Training loss: 4.0095 0.4186 sec/batch\n",
      "Epoch 3/10 Iteration: 12300 Avg. Training loss: 4.0115 0.4196 sec/batch\n",
      "Epoch 3/10 Iteration: 12400 Avg. Training loss: 4.0098 0.4183 sec/batch\n",
      "Epoch 3/10 Iteration: 12500 Avg. Training loss: 4.0071 0.4181 sec/batch\n",
      "Epoch 3/10 Iteration: 12600 Avg. Training loss: 3.9614 0.4174 sec/batch\n",
      "Epoch 3/10 Iteration: 12700 Avg. Training loss: 4.0297 0.4149 sec/batch\n",
      "Epoch 3/10 Iteration: 12800 Avg. Training loss: 3.9662 0.4174 sec/batch\n",
      "Epoch 3/10 Iteration: 12900 Avg. Training loss: 4.0782 0.4166 sec/batch\n",
      "Epoch 3/10 Iteration: 13000 Avg. Training loss: 4.0673 0.4212 sec/batch\n",
      "Nearest to see: cia, refined, artificial, gnu, corruption, bellori, courtenay, oes,\n",
      "Nearest to would: favourite, greeneville, consummation, lease, reining, jessie, explode, dac,\n",
      "Nearest to has: tended, dan, appreciated, vico, gannon, announce, mca, pherae,\n",
      "Nearest to use: gotthold, odos, summation, selflessness, reconstructionism, pstn, dispensing, substitute,\n",
      "Nearest to between: start, deutschland, licensure, quranic, cellists, superscript, actuality, organa,\n",
      "Nearest to three: five, four, wojciech, six, two, mather, over, zero,\n",
      "Nearest to by: secombe, glennon, linker, barbera, eustathius, phoebe, librettist, venture,\n",
      "Nearest to more: solicited, deadliest, pullman, paasikivi, sluzhba, minimums, misspellings, federalist,\n",
      "Nearest to except: alc, amon, counterparts, qa, parsecs, saskatoon, redrawn, manipulation,\n",
      "Nearest to notes: universiti, cartel, bookstore, associate, factor, mitnagdim, retells, firebrand,\n",
      "Nearest to pressure: excessive, plucking, countries, temporary, grossman, bodybuilding, intensities, boggy,\n",
      "Nearest to pope: laon, conquistadores, antipope, sandman, king, politecnico, supposed, anglorum,\n",
      "Nearest to hit: onstage, smiles, llb, tutored, arbroath, box, flashy, sejong,\n",
      "Nearest to troops: mujahid, capture, blacked, kagan, lhd, dish, attacking, incheon,\n",
      "Nearest to egypt: assyrians, berbers, minor, manasseh, hindus, dahomey, raza, naqada,\n",
      "Nearest to bible: apocrypha, tanakh, tobit, une, admissible, text, beth, axis,\n",
      "Epoch 3/10 Iteration: 13100 Avg. Training loss: 4.0739 0.4230 sec/batch\n",
      "Epoch 3/10 Iteration: 13200 Avg. Training loss: 4.0232 0.4167 sec/batch\n",
      "Epoch 3/10 Iteration: 13300 Avg. Training loss: 3.9808 0.4163 sec/batch\n",
      "Epoch 3/10 Iteration: 13400 Avg. Training loss: 3.9646 0.4194 sec/batch\n",
      "Epoch 3/10 Iteration: 13500 Avg. Training loss: 3.8887 144.2357 sec/batch\n",
      "Epoch 3/10 Iteration: 13600 Avg. Training loss: 3.9969 0.4623 sec/batch\n",
      "Epoch 3/10 Iteration: 13700 Avg. Training loss: 3.9802 63.9926 sec/batch\n",
      "Epoch 3/10 Iteration: 13800 Avg. Training loss: 3.9946 0.4299 sec/batch\n",
      "Epoch 4/10 Iteration: 13900 Avg. Training loss: 4.0379 0.0955 sec/batch\n",
      "Epoch 4/10 Iteration: 14000 Avg. Training loss: 3.9172 0.4343 sec/batch\n",
      "Nearest to see: cia, refined, mnt, gnu, artificial, corruption, courtenay, additionally,\n",
      "Nearest to would: favourite, consummation, greeneville, explode, lease, reining, dac, jessie,\n",
      "Nearest to has: dan, tended, vico, gannon, appreciated, announce, mlk, pedestrian,\n",
      "Nearest to use: gotthold, odos, summation, reconstructionism, selflessness, dispensing, pstn, substitute,\n",
      "Nearest to between: start, superscript, licensure, deutschland, actuality, cellists, quranic, organa,\n",
      "Nearest to three: five, four, two, six, wojciech, calculate, over, zero,\n",
      "Nearest to by: secombe, glennon, linker, barbera, phoebe, librettist, venture, icosahedron,\n",
      "Nearest to more: solicited, deadliest, sluzhba, minimums, pullman, paasikivi, hierarchically, misspellings,\n",
      "Nearest to except: alc, counterparts, amon, saskatoon, parsecs, qa, panavia, hinged,\n",
      "Nearest to notes: universiti, bookstore, associate, cartel, factor, hermas, honest, converting,\n",
      "Nearest to pressure: excessive, plucking, grossman, countries, bodybuilding, pressuring, intensities, boggy,\n",
      "Nearest to pope: laon, conquistadores, antipope, sandman, politecnico, king, overlapped, anglorum,\n",
      "Nearest to hit: smiles, onstage, llb, tutored, box, arbroath, flashy, sejong,\n",
      "Nearest to troops: blacked, kagan, mujahid, capture, lhd, dish, incheon, attacking,\n",
      "Nearest to egypt: assyrians, berbers, minor, manasseh, naqada, dahomey, raza, hindus,\n",
      "Nearest to bible: apocrypha, une, tobit, tanakh, beth, admissible, axis, text,\n",
      "Epoch 4/10 Iteration: 14100 Avg. Training loss: 3.8981 0.4363 sec/batch\n"
     ]
    },
    {
     "ename": "KeyboardInterrupt",
     "evalue": "",
     "output_type": "error",
     "traceback": [
      "\u001b[0;31m---------------------------------------------------------------------------\u001b[0m",
      "\u001b[0;31mKeyboardInterrupt\u001b[0m                         Traceback (most recent call last)",
      "\u001b[0;32m<ipython-input-50-b1d3869cd0d6>\u001b[0m in \u001b[0;36m<module>\u001b[0;34m()\u001b[0m\n\u001b[1;32m     18\u001b[0m             feed = {inputs: x,\n\u001b[1;32m     19\u001b[0m                     labels: np.array(y)[:, None]}\n\u001b[0;32m---> 20\u001b[0;31m             \u001b[0mtrain_loss\u001b[0m\u001b[0;34m,\u001b[0m \u001b[0m_\u001b[0m \u001b[0;34m=\u001b[0m \u001b[0msess\u001b[0m\u001b[0;34m.\u001b[0m\u001b[0mrun\u001b[0m\u001b[0;34m(\u001b[0m\u001b[0;34m[\u001b[0m\u001b[0mcost\u001b[0m\u001b[0;34m,\u001b[0m \u001b[0moptimizer\u001b[0m\u001b[0;34m]\u001b[0m\u001b[0;34m,\u001b[0m \u001b[0mfeed_dict\u001b[0m\u001b[0;34m=\u001b[0m\u001b[0mfeed\u001b[0m\u001b[0;34m)\u001b[0m\u001b[0;34m\u001b[0m\u001b[0m\n\u001b[0m\u001b[1;32m     21\u001b[0m \u001b[0;34m\u001b[0m\u001b[0m\n\u001b[1;32m     22\u001b[0m             \u001b[0mloss\u001b[0m \u001b[0;34m+=\u001b[0m \u001b[0mtrain_loss\u001b[0m\u001b[0;34m\u001b[0m\u001b[0m\n",
      "\u001b[0;32m/Users/chih-chuanchan/anaconda/envs/carnd-term1/lib/python3.5/site-packages/tensorflow/python/client/session.py\u001b[0m in \u001b[0;36mrun\u001b[0;34m(self, fetches, feed_dict, options, run_metadata)\u001b[0m\n\u001b[1;32m    765\u001b[0m     \u001b[0;32mtry\u001b[0m\u001b[0;34m:\u001b[0m\u001b[0;34m\u001b[0m\u001b[0m\n\u001b[1;32m    766\u001b[0m       result = self._run(None, fetches, feed_dict, options_ptr,\n\u001b[0;32m--> 767\u001b[0;31m                          run_metadata_ptr)\n\u001b[0m\u001b[1;32m    768\u001b[0m       \u001b[0;32mif\u001b[0m \u001b[0mrun_metadata\u001b[0m\u001b[0;34m:\u001b[0m\u001b[0;34m\u001b[0m\u001b[0m\n\u001b[1;32m    769\u001b[0m         \u001b[0mproto_data\u001b[0m \u001b[0;34m=\u001b[0m \u001b[0mtf_session\u001b[0m\u001b[0;34m.\u001b[0m\u001b[0mTF_GetBuffer\u001b[0m\u001b[0;34m(\u001b[0m\u001b[0mrun_metadata_ptr\u001b[0m\u001b[0;34m)\u001b[0m\u001b[0;34m\u001b[0m\u001b[0m\n",
      "\u001b[0;32m/Users/chih-chuanchan/anaconda/envs/carnd-term1/lib/python3.5/site-packages/tensorflow/python/client/session.py\u001b[0m in \u001b[0;36m_run\u001b[0;34m(self, handle, fetches, feed_dict, options, run_metadata)\u001b[0m\n\u001b[1;32m    963\u001b[0m     \u001b[0;32mif\u001b[0m \u001b[0mfinal_fetches\u001b[0m \u001b[0;32mor\u001b[0m \u001b[0mfinal_targets\u001b[0m\u001b[0;34m:\u001b[0m\u001b[0;34m\u001b[0m\u001b[0m\n\u001b[1;32m    964\u001b[0m       results = self._do_run(handle, final_targets, final_fetches,\n\u001b[0;32m--> 965\u001b[0;31m                              feed_dict_string, options, run_metadata)\n\u001b[0m\u001b[1;32m    966\u001b[0m     \u001b[0;32melse\u001b[0m\u001b[0;34m:\u001b[0m\u001b[0;34m\u001b[0m\u001b[0m\n\u001b[1;32m    967\u001b[0m       \u001b[0mresults\u001b[0m \u001b[0;34m=\u001b[0m \u001b[0;34m[\u001b[0m\u001b[0;34m]\u001b[0m\u001b[0;34m\u001b[0m\u001b[0m\n",
      "\u001b[0;32m/Users/chih-chuanchan/anaconda/envs/carnd-term1/lib/python3.5/site-packages/tensorflow/python/client/session.py\u001b[0m in \u001b[0;36m_do_run\u001b[0;34m(self, handle, target_list, fetch_list, feed_dict, options, run_metadata)\u001b[0m\n\u001b[1;32m   1013\u001b[0m     \u001b[0;32mif\u001b[0m \u001b[0mhandle\u001b[0m \u001b[0;32mis\u001b[0m \u001b[0;32mNone\u001b[0m\u001b[0;34m:\u001b[0m\u001b[0;34m\u001b[0m\u001b[0m\n\u001b[1;32m   1014\u001b[0m       return self._do_call(_run_fn, self._session, feed_dict, fetch_list,\n\u001b[0;32m-> 1015\u001b[0;31m                            target_list, options, run_metadata)\n\u001b[0m\u001b[1;32m   1016\u001b[0m     \u001b[0;32melse\u001b[0m\u001b[0;34m:\u001b[0m\u001b[0;34m\u001b[0m\u001b[0m\n\u001b[1;32m   1017\u001b[0m       return self._do_call(_prun_fn, self._session, handle, feed_dict,\n",
      "\u001b[0;32m/Users/chih-chuanchan/anaconda/envs/carnd-term1/lib/python3.5/site-packages/tensorflow/python/client/session.py\u001b[0m in \u001b[0;36m_do_call\u001b[0;34m(self, fn, *args)\u001b[0m\n\u001b[1;32m   1020\u001b[0m   \u001b[0;32mdef\u001b[0m \u001b[0m_do_call\u001b[0m\u001b[0;34m(\u001b[0m\u001b[0mself\u001b[0m\u001b[0;34m,\u001b[0m \u001b[0mfn\u001b[0m\u001b[0;34m,\u001b[0m \u001b[0;34m*\u001b[0m\u001b[0margs\u001b[0m\u001b[0;34m)\u001b[0m\u001b[0;34m:\u001b[0m\u001b[0;34m\u001b[0m\u001b[0m\n\u001b[1;32m   1021\u001b[0m     \u001b[0;32mtry\u001b[0m\u001b[0;34m:\u001b[0m\u001b[0;34m\u001b[0m\u001b[0m\n\u001b[0;32m-> 1022\u001b[0;31m       \u001b[0;32mreturn\u001b[0m \u001b[0mfn\u001b[0m\u001b[0;34m(\u001b[0m\u001b[0;34m*\u001b[0m\u001b[0margs\u001b[0m\u001b[0;34m)\u001b[0m\u001b[0;34m\u001b[0m\u001b[0m\n\u001b[0m\u001b[1;32m   1023\u001b[0m     \u001b[0;32mexcept\u001b[0m \u001b[0merrors\u001b[0m\u001b[0;34m.\u001b[0m\u001b[0mOpError\u001b[0m \u001b[0;32mas\u001b[0m \u001b[0me\u001b[0m\u001b[0;34m:\u001b[0m\u001b[0;34m\u001b[0m\u001b[0m\n\u001b[1;32m   1024\u001b[0m       \u001b[0mmessage\u001b[0m \u001b[0;34m=\u001b[0m \u001b[0mcompat\u001b[0m\u001b[0;34m.\u001b[0m\u001b[0mas_text\u001b[0m\u001b[0;34m(\u001b[0m\u001b[0me\u001b[0m\u001b[0;34m.\u001b[0m\u001b[0mmessage\u001b[0m\u001b[0;34m)\u001b[0m\u001b[0;34m\u001b[0m\u001b[0m\n",
      "\u001b[0;32m/Users/chih-chuanchan/anaconda/envs/carnd-term1/lib/python3.5/site-packages/tensorflow/python/client/session.py\u001b[0m in \u001b[0;36m_run_fn\u001b[0;34m(session, feed_dict, fetch_list, target_list, options, run_metadata)\u001b[0m\n\u001b[1;32m   1002\u001b[0m         return tf_session.TF_Run(session, options,\n\u001b[1;32m   1003\u001b[0m                                  \u001b[0mfeed_dict\u001b[0m\u001b[0;34m,\u001b[0m \u001b[0mfetch_list\u001b[0m\u001b[0;34m,\u001b[0m \u001b[0mtarget_list\u001b[0m\u001b[0;34m,\u001b[0m\u001b[0;34m\u001b[0m\u001b[0m\n\u001b[0;32m-> 1004\u001b[0;31m                                  status, run_metadata)\n\u001b[0m\u001b[1;32m   1005\u001b[0m \u001b[0;34m\u001b[0m\u001b[0m\n\u001b[1;32m   1006\u001b[0m     \u001b[0;32mdef\u001b[0m \u001b[0m_prun_fn\u001b[0m\u001b[0;34m(\u001b[0m\u001b[0msession\u001b[0m\u001b[0;34m,\u001b[0m \u001b[0mhandle\u001b[0m\u001b[0;34m,\u001b[0m \u001b[0mfeed_dict\u001b[0m\u001b[0;34m,\u001b[0m \u001b[0mfetch_list\u001b[0m\u001b[0;34m)\u001b[0m\u001b[0;34m:\u001b[0m\u001b[0;34m\u001b[0m\u001b[0m\n",
      "\u001b[0;31mKeyboardInterrupt\u001b[0m: "
     ]
    }
   ],
   "source": [
    "epochs = 10\n",
    "batch_size = 1000\n",
    "window_size = 10\n",
    "\n",
    "with train_graph.as_default():\n",
    "    saver = tf.train.Saver()\n",
    "\n",
    "with tf.Session(graph=train_graph) as sess:\n",
    "    iteration = 1\n",
    "    loss = 0\n",
    "    sess.run(tf.global_variables_initializer())\n",
    "\n",
    "    for e in range(1, epochs+1):\n",
    "        batches = get_batches(train_words, batch_size, window_size)\n",
    "        start = time.time()\n",
    "        for x, y in batches:\n",
    "            \n",
    "            feed = {inputs: x,\n",
    "                    labels: np.array(y)[:, None]}\n",
    "            train_loss, _ = sess.run([cost, optimizer], feed_dict=feed)\n",
    "            \n",
    "            loss += train_loss\n",
    "            \n",
    "            if iteration % 100 == 0: \n",
    "                end = time.time()\n",
    "                print(\"Epoch {}/{}\".format(e, epochs),\n",
    "                      \"Iteration: {}\".format(iteration),\n",
    "                      \"Avg. Training loss: {:.4f}\".format(loss/100),\n",
    "                      \"{:.4f} sec/batch\".format((end-start)/100))\n",
    "                loss = 0\n",
    "                start = time.time()\n",
    "            \n",
    "            if iteration % 1000 == 0:\n",
    "                ## From Thushan Ganegedara's implementation\n",
    "                # note that this is expensive (~20% slowdown if computed every 500 steps)\n",
    "                sim = similarity.eval()\n",
    "                for i in range(valid_size):\n",
    "                    valid_word = int_to_vocab[valid_examples[i]]\n",
    "                    top_k = 8 # number of nearest neighbors\n",
    "                    nearest = (-sim[i, :]).argsort()[1:top_k+1]\n",
    "                    log = 'Nearest to %s:' % valid_word\n",
    "                    for k in range(top_k):\n",
    "                        close_word = int_to_vocab[nearest[k]]\n",
    "                        log = '%s %s,' % (log, close_word)\n",
    "                    print(log)\n",
    "            \n",
    "            iteration += 1\n",
    "    save_path = saver.save(sess, \"checkpoints/text8.ckpt\")\n",
    "    embed_mat = sess.run(normalized_embedding)"
   ]
  },
  {
   "cell_type": "markdown",
   "metadata": {},
   "source": [
    "Restore the trained network if you need to:"
   ]
  },
  {
   "cell_type": "code",
   "execution_count": null,
   "metadata": {
    "collapsed": false
   },
   "outputs": [],
   "source": [
    "with train_graph.as_default():\n",
    "    saver = tf.train.Saver()\n",
    "\n",
    "with tf.Session(graph=train_graph) as sess:\n",
    "    saver.restore(sess, tf.train.latest_checkpoint('checkpoints'))\n",
    "    embed_mat = sess.run(embedding)"
   ]
  },
  {
   "cell_type": "markdown",
   "metadata": {},
   "source": [
    "## Visualizing the word vectors\n",
    "\n",
    "Below we'll use T-SNE to visualize how our high-dimensional word vectors cluster together. T-SNE is used to project these vectors into two dimensions while preserving local stucture. Check out [this post from Christopher Olah](http://colah.github.io/posts/2014-10-Visualizing-MNIST/) to learn more about T-SNE and other ways to visualize high-dimensional data."
   ]
  },
  {
   "cell_type": "code",
   "execution_count": null,
   "metadata": {
    "collapsed": false,
    "deletable": true,
    "editable": true
   },
   "outputs": [],
   "source": [
    "%matplotlib inline\n",
    "%config InlineBackend.figure_format = 'retina'\n",
    "\n",
    "import matplotlib.pyplot as plt\n",
    "from sklearn.manifold import TSNE"
   ]
  },
  {
   "cell_type": "code",
   "execution_count": null,
   "metadata": {
    "collapsed": false,
    "deletable": true,
    "editable": true
   },
   "outputs": [],
   "source": [
    "viz_words = 500\n",
    "tsne = TSNE()\n",
    "embed_tsne = tsne.fit_transform(embed_mat[:viz_words, :])"
   ]
  },
  {
   "cell_type": "code",
   "execution_count": null,
   "metadata": {
    "collapsed": false,
    "deletable": true,
    "editable": true
   },
   "outputs": [],
   "source": [
    "fig, ax = plt.subplots(figsize=(14, 14))\n",
    "for idx in range(viz_words):\n",
    "    plt.scatter(*embed_tsne[idx, :], color='steelblue')\n",
    "    plt.annotate(int_to_vocab[idx], (embed_tsne[idx, 0], embed_tsne[idx, 1]), alpha=0.7)"
   ]
  }
 ],
 "metadata": {
  "kernelspec": {
   "display_name": "Python 3",
   "language": "python",
   "name": "python3"
  },
  "language_info": {
   "codemirror_mode": {
    "name": "ipython",
    "version": 3
   },
   "file_extension": ".py",
   "mimetype": "text/x-python",
   "name": "python",
   "nbconvert_exporter": "python",
   "pygments_lexer": "ipython3",
   "version": "3.5.2"
  }
 },
 "nbformat": 4,
 "nbformat_minor": 2
}
